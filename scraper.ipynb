{
 "cells": [
  {
   "cell_type": "markdown",
   "id": "f87878c7",
   "metadata": {},
   "source": [
    "Webscraper to get race results and add them to a postgresql database"
   ]
  },
  {
   "cell_type": "code",
   "execution_count": 1,
   "id": "4c35c098",
   "metadata": {},
   "outputs": [],
   "source": [
    "import asyncio\n",
    "from playwright.async_api import async_playwright"
   ]
  },
  {
   "cell_type": "code",
   "execution_count": 4,
   "id": "dbe7d4fe",
   "metadata": {},
   "outputs": [],
   "source": [
    "async def main():\n",
    "    browsers = ['chromium', 'firefox', 'webkit']\n",
    "    async with async_playwright() as p:\n",
    "        for browser_type in browsers:\n",
    "            browser = await p[browser_type].launch()\n",
    "            page = await browser.new_page()\n",
    "            await page.goto('https://amazon.com')\n",
    "            await page.screenshot(path=f'py_{browser_type}.png', full_page=True)\n",
    "            await page.wait_for_timeout(1000)\n",
    "            await browser.close()\n",
    "            \n",
    "await main()"
   ]
  },
  {
   "cell_type": "code",
   "execution_count": 15,
   "id": "abb555af",
   "metadata": {},
   "outputs": [
    {
     "name": "stdout",
     "output_type": "stream",
     "text": [
      "<bound method Locator.text_content of <Locator frame=<Frame name= url='https://track.rtrt.me/e/ATC-GRANDPRIX-1MILE-2025#/leaderboard/overall-sex-by-net-time-1mile-_ALL/FINISH'> selector='internal:text=\"I\\'m a Spectator\"i'>>\n"
     ]
    },
    {
     "name": "stderr",
     "output_type": "stream",
     "text": [
      "Future exception was never retrieved\n",
      "future: <Future finished exception=TargetClosedError('Target page, context or browser has been closed')>\n",
      "playwright._impl._errors.TargetClosedError: Target page, context or browser has been closed\n"
     ]
    },
    {
     "ename": "TimeoutError",
     "evalue": "Locator.click: Timeout 30000ms exceeded.\nCall log:\n  - waiting for get_by_text(\"I'm a Spectator\")\n",
     "output_type": "error",
     "traceback": [
      "\u001b[0;31m---------------------------------------------------------------------------\u001b[0m",
      "\u001b[0;31mTimeoutError\u001b[0m                              Traceback (most recent call last)",
      "Cell \u001b[0;32mIn[15], line 10\u001b[0m\n\u001b[1;32m      8\u001b[0m spectator_button \u001b[38;5;241m=\u001b[39m page\u001b[38;5;241m.\u001b[39mget_by_text(\u001b[38;5;124m\"\u001b[39m\u001b[38;5;124mI\u001b[39m\u001b[38;5;124m'\u001b[39m\u001b[38;5;124mm a Spectator\u001b[39m\u001b[38;5;124m\"\u001b[39m)\n\u001b[1;32m      9\u001b[0m \u001b[38;5;28mprint\u001b[39m(spectator_button\u001b[38;5;241m.\u001b[39mtext_content)\n\u001b[0;32m---> 10\u001b[0m \u001b[38;5;28;01mawait\u001b[39;00m spectator_button\u001b[38;5;241m.\u001b[39mclick()\n\u001b[1;32m     11\u001b[0m \u001b[38;5;66;03m#await page.screenshot(path=f'atc_test.png', full_page=True)\u001b[39;00m\n\u001b[1;32m     12\u001b[0m \u001b[38;5;28;01mawait\u001b[39;00m browser\u001b[38;5;241m.\u001b[39mclose()\n",
      "File \u001b[0;32m/opt/anaconda3/lib/python3.12/site-packages/playwright/async_api/_generated.py:15459\u001b[0m, in \u001b[0;36mLocator.click\u001b[0;34m(self, modifiers, position, delay, button, click_count, timeout, force, no_wait_after, trial)\u001b[0m\n\u001b[1;32m  15378\u001b[0m \u001b[38;5;28;01masync\u001b[39;00m \u001b[38;5;28;01mdef\u001b[39;00m \u001b[38;5;21mclick\u001b[39m(\n\u001b[1;32m  15379\u001b[0m     \u001b[38;5;28mself\u001b[39m,\n\u001b[1;32m  15380\u001b[0m     \u001b[38;5;241m*\u001b[39m,\n\u001b[0;32m   (...)\u001b[0m\n\u001b[1;32m  15391\u001b[0m     trial: typing\u001b[38;5;241m.\u001b[39mOptional[\u001b[38;5;28mbool\u001b[39m] \u001b[38;5;241m=\u001b[39m \u001b[38;5;28;01mNone\u001b[39;00m,\n\u001b[1;32m  15392\u001b[0m ) \u001b[38;5;241m-\u001b[39m\u001b[38;5;241m>\u001b[39m \u001b[38;5;28;01mNone\u001b[39;00m:\n\u001b[1;32m  15393\u001b[0m \u001b[38;5;250m    \u001b[39m\u001b[38;5;124;03m\"\"\"Locator.click\u001b[39;00m\n\u001b[1;32m  15394\u001b[0m \n\u001b[1;32m  15395\u001b[0m \u001b[38;5;124;03m    Click an element.\u001b[39;00m\n\u001b[0;32m   (...)\u001b[0m\n\u001b[1;32m  15455\u001b[0m \u001b[38;5;124;03m        are pressed.\u001b[39;00m\n\u001b[1;32m  15456\u001b[0m \u001b[38;5;124;03m    \"\"\"\u001b[39;00m\n\u001b[1;32m  15458\u001b[0m     \u001b[38;5;28;01mreturn\u001b[39;00m mapping\u001b[38;5;241m.\u001b[39mfrom_maybe_impl(\n\u001b[0;32m> 15459\u001b[0m         \u001b[38;5;28;01mawait\u001b[39;00m \u001b[38;5;28mself\u001b[39m\u001b[38;5;241m.\u001b[39m_impl_obj\u001b[38;5;241m.\u001b[39mclick(\n\u001b[1;32m  15460\u001b[0m             modifiers\u001b[38;5;241m=\u001b[39mmapping\u001b[38;5;241m.\u001b[39mto_impl(modifiers),\n\u001b[1;32m  15461\u001b[0m             position\u001b[38;5;241m=\u001b[39mposition,\n\u001b[1;32m  15462\u001b[0m             delay\u001b[38;5;241m=\u001b[39mdelay,\n\u001b[1;32m  15463\u001b[0m             button\u001b[38;5;241m=\u001b[39mbutton,\n\u001b[1;32m  15464\u001b[0m             clickCount\u001b[38;5;241m=\u001b[39mclick_count,\n\u001b[1;32m  15465\u001b[0m             timeout\u001b[38;5;241m=\u001b[39mtimeout,\n\u001b[1;32m  15466\u001b[0m             force\u001b[38;5;241m=\u001b[39mforce,\n\u001b[1;32m  15467\u001b[0m             noWaitAfter\u001b[38;5;241m=\u001b[39mno_wait_after,\n\u001b[1;32m  15468\u001b[0m             trial\u001b[38;5;241m=\u001b[39mtrial,\n\u001b[1;32m  15469\u001b[0m         )\n\u001b[1;32m  15470\u001b[0m     )\n",
      "File \u001b[0;32m/opt/anaconda3/lib/python3.12/site-packages/playwright/_impl/_locator.py:160\u001b[0m, in \u001b[0;36mLocator.click\u001b[0;34m(self, modifiers, position, delay, button, clickCount, timeout, force, noWaitAfter, trial)\u001b[0m\n\u001b[1;32m    147\u001b[0m \u001b[38;5;28;01masync\u001b[39;00m \u001b[38;5;28;01mdef\u001b[39;00m \u001b[38;5;21mclick\u001b[39m(\n\u001b[1;32m    148\u001b[0m     \u001b[38;5;28mself\u001b[39m,\n\u001b[1;32m    149\u001b[0m     modifiers: Sequence[KeyboardModifier] \u001b[38;5;241m=\u001b[39m \u001b[38;5;28;01mNone\u001b[39;00m,\n\u001b[0;32m   (...)\u001b[0m\n\u001b[1;32m    157\u001b[0m     trial: \u001b[38;5;28mbool\u001b[39m \u001b[38;5;241m=\u001b[39m \u001b[38;5;28;01mNone\u001b[39;00m,\n\u001b[1;32m    158\u001b[0m ) \u001b[38;5;241m-\u001b[39m\u001b[38;5;241m>\u001b[39m \u001b[38;5;28;01mNone\u001b[39;00m:\n\u001b[1;32m    159\u001b[0m     params \u001b[38;5;241m=\u001b[39m locals_to_params(\u001b[38;5;28mlocals\u001b[39m())\n\u001b[0;32m--> 160\u001b[0m     \u001b[38;5;28;01mreturn\u001b[39;00m \u001b[38;5;28;01mawait\u001b[39;00m \u001b[38;5;28mself\u001b[39m\u001b[38;5;241m.\u001b[39m_frame\u001b[38;5;241m.\u001b[39mclick(\u001b[38;5;28mself\u001b[39m\u001b[38;5;241m.\u001b[39m_selector, strict\u001b[38;5;241m=\u001b[39m\u001b[38;5;28;01mTrue\u001b[39;00m, \u001b[38;5;241m*\u001b[39m\u001b[38;5;241m*\u001b[39mparams)\n",
      "File \u001b[0;32m/opt/anaconda3/lib/python3.12/site-packages/playwright/_impl/_frame.py:521\u001b[0m, in \u001b[0;36mFrame.click\u001b[0;34m(self, selector, modifiers, position, delay, button, clickCount, timeout, force, noWaitAfter, strict, trial)\u001b[0m\n\u001b[1;32m    507\u001b[0m \u001b[38;5;28;01masync\u001b[39;00m \u001b[38;5;28;01mdef\u001b[39;00m \u001b[38;5;21mclick\u001b[39m(\n\u001b[1;32m    508\u001b[0m     \u001b[38;5;28mself\u001b[39m,\n\u001b[1;32m    509\u001b[0m     selector: \u001b[38;5;28mstr\u001b[39m,\n\u001b[0;32m   (...)\u001b[0m\n\u001b[1;32m    519\u001b[0m     trial: \u001b[38;5;28mbool\u001b[39m \u001b[38;5;241m=\u001b[39m \u001b[38;5;28;01mNone\u001b[39;00m,\n\u001b[1;32m    520\u001b[0m ) \u001b[38;5;241m-\u001b[39m\u001b[38;5;241m>\u001b[39m \u001b[38;5;28;01mNone\u001b[39;00m:\n\u001b[0;32m--> 521\u001b[0m     \u001b[38;5;28;01mawait\u001b[39;00m \u001b[38;5;28mself\u001b[39m\u001b[38;5;241m.\u001b[39m_channel\u001b[38;5;241m.\u001b[39msend(\u001b[38;5;124m\"\u001b[39m\u001b[38;5;124mclick\u001b[39m\u001b[38;5;124m\"\u001b[39m, \u001b[38;5;28mself\u001b[39m\u001b[38;5;241m.\u001b[39m_timeout, locals_to_params(\u001b[38;5;28mlocals\u001b[39m()))\n",
      "File \u001b[0;32m/opt/anaconda3/lib/python3.12/site-packages/playwright/_impl/_connection.py:69\u001b[0m, in \u001b[0;36mChannel.send\u001b[0;34m(self, method, timeout_calculator, params, is_internal, title)\u001b[0m\n\u001b[1;32m     61\u001b[0m \u001b[38;5;28;01masync\u001b[39;00m \u001b[38;5;28;01mdef\u001b[39;00m \u001b[38;5;21msend\u001b[39m(\n\u001b[1;32m     62\u001b[0m     \u001b[38;5;28mself\u001b[39m,\n\u001b[1;32m     63\u001b[0m     method: \u001b[38;5;28mstr\u001b[39m,\n\u001b[0;32m   (...)\u001b[0m\n\u001b[1;32m     67\u001b[0m     title: \u001b[38;5;28mstr\u001b[39m \u001b[38;5;241m=\u001b[39m \u001b[38;5;28;01mNone\u001b[39;00m,\n\u001b[1;32m     68\u001b[0m ) \u001b[38;5;241m-\u001b[39m\u001b[38;5;241m>\u001b[39m Any:\n\u001b[0;32m---> 69\u001b[0m     \u001b[38;5;28;01mreturn\u001b[39;00m \u001b[38;5;28;01mawait\u001b[39;00m \u001b[38;5;28mself\u001b[39m\u001b[38;5;241m.\u001b[39m_connection\u001b[38;5;241m.\u001b[39mwrap_api_call(\n\u001b[1;32m     70\u001b[0m         \u001b[38;5;28;01mlambda\u001b[39;00m: \u001b[38;5;28mself\u001b[39m\u001b[38;5;241m.\u001b[39m_inner_send(method, timeout_calculator, params, \u001b[38;5;28;01mFalse\u001b[39;00m),\n\u001b[1;32m     71\u001b[0m         is_internal,\n\u001b[1;32m     72\u001b[0m         title,\n\u001b[1;32m     73\u001b[0m     )\n",
      "File \u001b[0;32m/opt/anaconda3/lib/python3.12/site-packages/playwright/_impl/_connection.py:558\u001b[0m, in \u001b[0;36mConnection.wrap_api_call\u001b[0;34m(self, cb, is_internal, title)\u001b[0m\n\u001b[1;32m    556\u001b[0m     \u001b[38;5;28;01mreturn\u001b[39;00m \u001b[38;5;28;01mawait\u001b[39;00m cb()\n\u001b[1;32m    557\u001b[0m \u001b[38;5;28;01mexcept\u001b[39;00m \u001b[38;5;167;01mException\u001b[39;00m \u001b[38;5;28;01mas\u001b[39;00m error:\n\u001b[0;32m--> 558\u001b[0m     \u001b[38;5;28;01mraise\u001b[39;00m rewrite_error(error, \u001b[38;5;124mf\u001b[39m\u001b[38;5;124m\"\u001b[39m\u001b[38;5;132;01m{\u001b[39;00mparsed_st[\u001b[38;5;124m'\u001b[39m\u001b[38;5;124mapiName\u001b[39m\u001b[38;5;124m'\u001b[39m]\u001b[38;5;132;01m}\u001b[39;00m\u001b[38;5;124m: \u001b[39m\u001b[38;5;132;01m{\u001b[39;00merror\u001b[38;5;132;01m}\u001b[39;00m\u001b[38;5;124m\"\u001b[39m) \u001b[38;5;28;01mfrom\u001b[39;00m \u001b[38;5;28;01mNone\u001b[39;00m\n\u001b[1;32m    559\u001b[0m \u001b[38;5;28;01mfinally\u001b[39;00m:\n\u001b[1;32m    560\u001b[0m     \u001b[38;5;28mself\u001b[39m\u001b[38;5;241m.\u001b[39m_api_zone\u001b[38;5;241m.\u001b[39mset(\u001b[38;5;28;01mNone\u001b[39;00m)\n",
      "\u001b[0;31mTimeoutError\u001b[0m: Locator.click: Timeout 30000ms exceeded.\nCall log:\n  - waiting for get_by_text(\"I'm a Spectator\")\n"
     ]
    }
   ],
   "source": [
    "async with async_playwright() as p:\n",
    "    browser = await p['chromium'].launch()\n",
    "    page = await browser.new_page()\n",
    "    await page.goto('https://track.rtrt.me/e/ATC-GRANDPRIX-1MILE-2025#/leaderboard/overall-sex-by-net-time-1mile-_ALL/FINISH')\n",
    "    #await page.wait_for_load_state('leaderboardText prel whitebg leaderrow cpoint')\n",
    "    await page.wait_for_timeout(5000)\n",
    "    await page.screenshot(path=f'atc_test.png', full_page=True)\n",
    "    spectator_button = page.get_by_text(\"I'm a Spectator\")\n",
    "    print(spectator_button.text_content)\n",
    "    await spectator_button.click()\n",
    "    #await page.screenshot(path=f'atc_test.png', full_page=True)\n",
    "    await browser.close()\n",
    "    \n",
    "    "
   ]
  },
  {
   "cell_type": "code",
   "execution_count": 36,
   "id": "958a5b83",
   "metadata": {},
   "outputs": [
    {
     "name": "stdout",
     "output_type": "stream",
     "text": [
      "Page loaded. Looking for the 'Spectator' button...\n",
      "Successfully clicked the 'Spectator' button.\n",
      "Found 0 rows.\n",
      "\n",
      "--- All Table Data ---\n",
      "[]\n"
     ]
    }
   ],
   "source": [
    "async def main():\n",
    "    async with async_playwright() as p:\n",
    "        browser = await p.chromium.launch(headless=False) # headless=False lets you watch\n",
    "        page = await browser.new_page()\n",
    "        \n",
    "        # Go to the page where the button will appear\n",
    "        await page.goto(\"https://track.rtrt.me/e/ATC-GRANDPRIX-1MILE-2025#/leaderboard/overall-sex-by-net-time-1mile-_ALL/FINISH\")\n",
    "        \n",
    "        print(\"Page loaded. Looking for the 'Spectator' button...\")\n",
    "        \n",
    "        # Use a locator to find the button. Playwright will automatically wait\n",
    "        # for it to appear before proceeding.\n",
    "        \n",
    "        \n",
    "        #await page.pause()\n",
    "        # Click the button\n",
    "        await page.locator(\"iframe[name=\\\"rtframe\\\"]\").content_frame.get_by_role(\"button\", name=\"I'm a Spectator\").click()\n",
    "        \n",
    "        print(\"Successfully clicked the 'Spectator' button.\")\n",
    "        \n",
    "        # Now you can proceed to wait for your results and scrape them\n",
    "        # For example, wait for a results container to be visible:\n",
    "        frame_locator = page.frame_locator(\"iframe[name=\\\"rtframe\\\"]\")\n",
    "        rows = frame_locator.locator(\"tr.leaderrow\")\n",
    "        \n",
    "        rows_count = await rows.count()\n",
    "        print(f\"Found {rows_count} rows.\")\n",
    "        all_rows_data = []\n",
    "        for row in await rows.all():\n",
    "            # For each row, get all cell locators\n",
    "            cell_locators = row.locator(\"td\")\n",
    "            print('in loop')\n",
    "            # Extract the text content from each cell and store it as a list\n",
    "            row_data = [await cell.text_content() for cell in await cell_locators.all()]\n",
    "            all_rows_data.append(row_data)\n",
    "            \n",
    "            # You can now process the data for the current row\n",
    "            print(row_data)\n",
    "        print(\"\\n--- All Table Data ---\")\n",
    "        print(all_rows_data)\n",
    "\n",
    "        # Add a small delay to see the result\n",
    "        await page.wait_for_timeout(5000)\n",
    "        \n",
    "        await browser.close()\n",
    "\n",
    "# To run this script:\n",
    "await main()"
   ]
  }
 ],
 "metadata": {
  "kernelspec": {
   "display_name": "base",
   "language": "python",
   "name": "python3"
  },
  "language_info": {
   "codemirror_mode": {
    "name": "ipython",
    "version": 3
   },
   "file_extension": ".py",
   "mimetype": "text/x-python",
   "name": "python",
   "nbconvert_exporter": "python",
   "pygments_lexer": "ipython3",
   "version": "3.12.7"
  }
 },
 "nbformat": 4,
 "nbformat_minor": 5
}
