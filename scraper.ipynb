{
 "cells": [
  {
   "cell_type": "markdown",
   "id": "f87878c7",
   "metadata": {},
   "source": [
    "Webscraper to get race results and add them to a postgresql database"
   ]
  },
  {
   "cell_type": "code",
   "execution_count": null,
   "id": "27abf575",
   "metadata": {
    "vscode": {
     "languageId": "plaintext"
    }
   },
   "outputs": [],
   "source": []
  }
 ],
 "metadata": {
  "language_info": {
   "name": "python"
  }
 },
 "nbformat": 4,
 "nbformat_minor": 5
}
