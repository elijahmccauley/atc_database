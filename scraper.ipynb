{
 "cells": [
  {
   "cell_type": "markdown",
   "id": "f87878c7",
   "metadata": {},
   "source": [
    "Webscraper to get race results and add them to a postgresql database"
   ]
  },
  {
   "cell_type": "code",
   "execution_count": 1,
   "id": "4c35c098",
   "metadata": {},
   "outputs": [],
   "source": [
    "import asyncio\n",
    "from playwright.async_api import async_playwright"
   ]
  },
  {
   "cell_type": "code",
   "execution_count": 4,
   "id": "dbe7d4fe",
   "metadata": {},
   "outputs": [],
   "source": [
    "async def main():\n",
    "    browsers = ['chromium', 'firefox', 'webkit']\n",
    "    async with async_playwright() as p:\n",
    "        for browser_type in browsers:\n",
    "            browser = await p[browser_type].launch()\n",
    "            page = await browser.new_page()\n",
    "            await page.goto('https://amazon.com')\n",
    "            await page.screenshot(path=f'py_{browser_type}.png', full_page=True)\n",
    "            await page.wait_for_timeout(1000)\n",
    "            await browser.close()\n",
    "            \n",
    "await main()"
   ]
  }
 ],
 "metadata": {
  "kernelspec": {
   "display_name": "base",
   "language": "python",
   "name": "python3"
  },
  "language_info": {
   "codemirror_mode": {
    "name": "ipython",
    "version": 3
   },
   "file_extension": ".py",
   "mimetype": "text/x-python",
   "name": "python",
   "nbconvert_exporter": "python",
   "pygments_lexer": "ipython3",
   "version": "3.12.7"
  }
 },
 "nbformat": 4,
 "nbformat_minor": 5
}
